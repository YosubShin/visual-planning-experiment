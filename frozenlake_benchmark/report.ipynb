{
 "cells": [
  {
   "cell_type": "markdown",
   "metadata": {},
   "source": [
    "# FrozenLake Benchmark Report\n",
    "\n",
    "This notebook summarizes evaluation metrics and visualizes failure cases for the FrozenLake-style spatial reasoning benchmark."
   ]
  },
  {
   "cell_type": "code",
   "execution_count": null,
   "metadata": {},
   "outputs": [],
   "source": [
    "import json\n",
    "from pathlib import Path\n",
    "\n",
    "import pandas as pd\n",
    "\n",
    "RESULTS_PATH = Path('frozenlake_benchmark/data/test.jsonl')\n",
    "records = [json.loads(line) for line in RESULTS_PATH.read_text().splitlines() if line]\n",
    "len(records)"
   ]
  }
 ],
 "metadata": {
  "kernelspec": {
   "display_name": "Python 3",
   "language": "python",
   "name": "python3"
  },
  "language_info": {
   "name": "python",
   "version": "3.11"
  }
 },
 "nbformat": 4,
 "nbformat_minor": 5
}
